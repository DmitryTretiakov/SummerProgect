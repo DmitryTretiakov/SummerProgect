{
 "cells": [
  {
   "cell_type": "code",
   "execution_count": 1,
   "id": "f91eb8f4",
   "metadata": {},
   "outputs": [
    {
     "name": "stderr",
     "output_type": "stream",
     "text": [
      "C:\\Users\\Admin\\AppData\\Roaming\\Python\\Python39\\site-packages\\ekphrasis\\classes\\tokenizer.py:225: FutureWarning: Possible nested set at position 2190\n",
      "  self.tok = re.compile(r\"({})\".format(\"|\".join(pipeline)))\n"
     ]
    },
    {
     "name": "stdout",
     "output_type": "stream",
     "text": [
      "Reading twitter - 1grams ...\n",
      "Reading twitter - 2grams ...\n"
     ]
    },
    {
     "name": "stderr",
     "output_type": "stream",
     "text": [
      "C:\\Users\\Admin\\AppData\\Roaming\\Python\\Python39\\site-packages\\ekphrasis\\classes\\exmanager.py:14: FutureWarning: Possible nested set at position 42\n",
      "  regexes = {k.lower(): re.compile(self.expressions[k]) for k, v in\n"
     ]
    },
    {
     "name": "stdout",
     "output_type": "stream",
     "text": [
      "Reading twitter - 1grams ...\n",
      "Reading twitter - 1grams ...\n",
      "Reading twitter - 2grams ...\n",
      "Reading twitter - 1grams ...\n"
     ]
    }
   ],
   "source": [
    "import tensorflow as tf\n",
    "import keras\n",
    "import tensorflow_hub as hub\n",
    "import numpy as np\n",
    "import matplotlib\n",
    "import matplotlib.pyplot as plt\n",
    "%matplotlib inline\n",
    "import sklearn\n",
    "\n",
    "from casual_preprocessing import full_preprocess\n",
    "from predicting import bert_encode, tokenizer\n",
    "max_len = 41"
   ]
  },
  {
   "cell_type": "code",
   "execution_count": 2,
   "id": "60d5fbf9",
   "metadata": {},
   "outputs": [],
   "source": [
    "best_model_bert = keras.models.load_model('best_model_bert.h5',  custom_objects={'KerasLayer':hub.KerasLayer})"
   ]
  },
  {
   "cell_type": "code",
   "execution_count": 178,
   "id": "8a13bbf0",
   "metadata": {},
   "outputs": [
    {
     "name": "stdout",
     "output_type": "stream",
     "text": [
      ":broken_heart:\n"
     ]
    }
   ],
   "source": [
    "comment = \"💔\"\n",
    "comment = full_preprocess(comment)\n",
    "print(comment)"
   ]
  },
  {
   "cell_type": "code",
   "execution_count": 179,
   "id": "2cc056f7",
   "metadata": {},
   "outputs": [],
   "source": [
    "comments = []\n",
    "comments.append(comment)\n",
    "comments.append(comment)\n",
    "input_comment = bert_encode(comments, tokenizer, max_len=max_len)"
   ]
  },
  {
   "cell_type": "code",
   "execution_count": 180,
   "id": "c7e730b8",
   "metadata": {},
   "outputs": [
    {
     "name": "stdout",
     "output_type": "stream",
     "text": [
      "1/1 [==============================] - 0s 41ms/step\n"
     ]
    }
   ],
   "source": [
    "result = best_model_bert.predict(input_comment)"
   ]
  },
  {
   "cell_type": "code",
   "execution_count": 181,
   "id": "4e056e49",
   "metadata": {},
   "outputs": [
    {
     "name": "stdout",
     "output_type": "stream",
     "text": [
      "sad :37.02%\n",
      "neutral :18.81%\n",
      "happy :6.99%\n",
      "disgust :5.41%\n",
      "anger :4.60%\n",
      "fear :3.80%\n",
      "surprise :3.07%\n"
     ]
    }
   ],
   "source": [
    "emotions = ['anger','disgust','fear','happy','neutral','sad','surprise']\n",
    "data = result[0]\n",
    "emodict = dict(zip(emotions,data))\n",
    "e = {k: v for k, v in sorted(emodict.items(), key=lambda item: item[1],reverse=True)}\n",
    "for key,item in e.items():\n",
    "  print('{} :{:.2%}'.format(key, item))"
   ]
  },
  {
   "cell_type": "code",
   "execution_count": 182,
   "id": "d0de6a4f",
   "metadata": {},
   "outputs": [
    {
     "data": {
      "image/png": "[encoded data removed]",
      "text/plain": [
       "<Figure size 432x288 with 1 Axes>"
      ]
     },
     "metadata": {
      "needs_background": "light"
     },
     "output_type": "display_data"
    }
   ],
   "source": [
    "plt.bar(*zip(*emodict.items()))\n",
    "plt.show()"
   ]
  },
  {
   "cell_type": "code",
   "execution_count": null,
   "id": "beea8347",
   "metadata": {},
   "outputs": [],
   "source": []
  }
 ],
 "metadata": {
  "kernelspec": {
   "display_name": "Python 3 (ipykernel)",
   "language": "python",
   "name": "python3"
  },
  "language_info": {
   "codemirror_mode": {
    "name": "ipython",
    "version": 3
   },
   "file_extension": ".py",
   "mimetype": "text/x-python",
   "name": "python",
   "nbconvert_exporter": "python",
   "pygments_lexer": "ipython3",
   "version": "3.9.12"
  }
 },
 "nbformat": 4,
 "nbformat_minor": 5
}
